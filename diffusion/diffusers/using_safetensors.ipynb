{
 "cells": [
  {
   "cell_type": "markdown",
   "metadata": {},
   "source": [
    "## Overview\n",
    "\n",
    "Safetensors is a fast file format for sorting and loading tensors. Typically, PtTorch model weights are saved or pickled into a .bin file with Python's pickle utility. However, pickle is not secure and pickled files amy contain malicious code that can be executed. safetensors is a secure alternative to pickle, making it ideal for sharing model weights.\n",
    "\n",
    "[🤗 safetensors](https://github.com/huggingface/safetensors) is an open source project that it implements a new simple format for storing tensots safely (as opposed to pickle) and that is still fast with zero-copy.\n",
    "\n",
    "[pickle- Python object serialization](https://docs.python.org/3/library/pickle.html) implements binary protocols for serializing and de-serializing a Python object structure\n",
    "\n",
    "In this notebooks, we will try to load `.safetensor` files and convert Stable Diffusion model weights stored in other format to `.safetensor` files."
   ]
  },
  {
   "cell_type": "markdown",
   "metadata": {},
   "source": [
    "## Preparing\n",
    "\n",
    "!pip install safetensors"
   ]
  },
  {
   "cell_type": "markdown",
   "metadata": {},
   "source": [
    "## Loading safetensors\n",
    "\n",
    "We can optionally set  `use_safetensors=True` to load safetensors files. But please make sure safetensors is installed. "
   ]
  },
  {
   "cell_type": "code",
   "execution_count": null,
   "metadata": {},
   "outputs": [],
   "source": [
    "from diffusers import DiffusionPipeline\n",
    "\n",
    "pipe = DiffusionPipeline.from_pretrained('runwayml/stable-diffusion-v1-5', use_safetensors=True)"
   ]
  },
  {
   "cell_type": "markdown",
   "metadata": {},
   "source": [
    "### Loading safetensors from a file\n",
    "\n",
    "The model weights are not necessarily stored in separate subfolders like in the example above. Sometimes, all the weights are stored in a single `.safetensors` file by using `from_single_file`."
   ]
  },
  {
   "cell_type": "code",
   "execution_count": null,
   "metadata": {},
   "outputs": [],
   "source": [
    "from diffusers import StableDiffusionPipeline\n",
    "\n",
    "pipe = StableDiffusionPipeline.from_single_file(\n",
    "    \"https://huggingface.co/WarriorMama777/OrangeMixs/blob/main/Models/AbyssOrangeMix/AbyssOrangeMix.safetensors\"\n",
    "\n",
    ")"
   ]
  },
  {
   "cell_type": "markdown",
   "metadata": {},
   "source": [
    "## Convert to safetensors\n",
    "\n",
    "Not all weights on the Hub are avaliable in the `.safetensors` format, and you may encounter weights stored as `.bin`. In this case, use the Conver Space to convert the weights to `.safetensors`. The Convert Space downloads the pickled weights, converts them, and opens a Pull Request to upload the newly converted `.safetensors` file on the hub. This way, if there is any malicious code contained in the pickled files, they are uploaded to the Hub - which has a security scanner to detect unsafe files and suspicious imports - instead of your computer. Here is the [convert code](https://huggingface.co/spaces/diffusers/convert/blob/main/convert.py)"
   ]
  }
 ],
 "metadata": {
  "kernelspec": {
   "display_name": "diffusers",
   "language": "python",
   "name": "python3"
  },
  "language_info": {
   "name": "python",
   "version": "3.11.3"
  },
  "orig_nbformat": 4
 },
 "nbformat": 4,
 "nbformat_minor": 2
}
